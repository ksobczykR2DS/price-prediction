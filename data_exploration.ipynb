{
 "cells": [
  {
   "cell_type": "markdown",
   "id": "fbc5e9ace0c37a58",
   "metadata": {},
   "source": [
    "# Loading Data"
   ]
  },
  {
   "cell_type": "code",
   "execution_count": null,
   "id": "b439eb4d-8641-4a01-b3a8-237e85f41786",
   "metadata": {
    "collapsed": false,
    "is_executing": true
   },
   "outputs": [],
   "source": [
    "# %load_ext autoreload\n",
    "# %autoreload 2\n",
    "from data_utils import _read_data, _fill_missing_values, _feature_engineering, _one_hot_encoding\n",
    "\n",
    "df = _read_data()"
   ]
  },
  {
   "cell_type": "markdown",
   "id": "712af275-bb94-4188-849f-2ab0a4677794",
   "metadata": {},
   "source": [
    "# Data Analysis"
   ]
  },
  {
   "cell_type": "markdown",
   "id": "d51dc556-b2fa-4ce6-8d50-278c447b4e5c",
   "metadata": {},
   "source": [
    "## Distributions"
   ]
  },
  {
   "cell_type": "code",
   "execution_count": null,
   "id": "6a677aaa4f7fe1a",
   "metadata": {
    "collapsed": false,
    "is_executing": true
   },
   "outputs": [],
   "source": [
    "import matplotlib.pyplot as plt\n",
    "import seaborn as sns\n",
    "import numpy as np\n",
    "\n",
    "sns.set(style=\"whitegrid\")\n",
    "\n",
    "plt.figure(figsize=(10, 5))\n",
    "sns.histplot(df['SalePrice'], kde=True, color='skyblue')\n",
    "plt.title('Distribution of Sale Prices', fontsize=20)\n",
    "plt.xlabel('Sale Price', fontsize=15)\n",
    "plt.ylabel('Frequency', fontsize=15)\n",
    "plt.xticks(rotation=90, fontsize=12)\n",
    "sns.despine()\n",
    "\n",
    "plt.show()"
   ]
  },
  {
   "cell_type": "markdown",
   "id": "fb7e6729-69cc-4594-9bf9-41108f451eef",
   "metadata": {},
   "source": [
    "# Profiling"
   ]
  },
  {
   "cell_type": "code",
   "execution_count": null,
   "id": "98fc4209-01bb-472d-b116-f613f206872a",
   "metadata": {
    "collapsed": false,
    "is_executing": true
   },
   "outputs": [],
   "source": [
    "from ydata_profiling import ProfileReport\n",
    "# in case of error: pip install typing_extensions==4.7.1 --upgrade\n",
    "profile = ProfileReport(df, title=\"Profiling Report\")\n",
    "\n",
    "profile.to_file(\"reports/data_report.html\")"
   ]
  },
  {
   "cell_type": "markdown",
   "id": "0e94e6b2-0e1e-4444-bd9e-14e70b0fe2ba",
   "metadata": {},
   "source": [
    "# Missing Values"
   ]
  },
  {
   "cell_type": "code",
   "execution_count": null,
   "id": "7264cbb54d8d48e1",
   "metadata": {
    "collapsed": false,
    "is_executing": true
   },
   "outputs": [],
   "source": [
    "missing_values = df.isnull().sum().sort_values(ascending=False)\n",
    "missing_values = missing_values[missing_values > 0]\n",
    "\n",
    "\n",
    "sns.set(style=\"whitegrid\")\n",
    "plt.figure(figsize=(10, 5))\n",
    "sns.barplot(x=missing_values.index, y=missing_values.values, color='skyblue')\n",
    "\n",
    "plt.title('Number of Missing Values in Each Column', fontsize=20)\n",
    "plt.xlabel('Columns', fontsize=15)\n",
    "plt.ylabel('Number of Missing Values', fontsize=15)\n",
    "plt.xticks(rotation=90, fontsize=12)\n",
    "sns.despine()\n",
    "plt.show()"
   ]
  },
  {
   "cell_type": "code",
   "execution_count": null,
   "id": "ad9d1af20c5a4185",
   "metadata": {
    "collapsed": false,
    "is_executing": true
   },
   "outputs": [],
   "source": [
    "# PoolQC            1453    – code as 'absence'\n",
    "# MiscFeature       1406    – code as 'absence'\n",
    "# Alley             1369    – code as 'absence'\n",
    "# Fence             1179    – code as 'absence'\n",
    "# MasVnrType        872     – code as 'absence'\n",
    "# FireplaceQu       690     – code as 'absence'\n",
    "# GarageType        81      – code as 'absence'\n",
    "# GarageCond        81      – code as 'absence'\n",
    "# GarageFinish      81      – code as 'absence'\n",
    "# GarageQual        81      – code as 'absence'\n",
    "# BsmtFinType2      38      – code as 'absence'\n",
    "# BsmtExposure      38      – code as 'absence'\n",
    "# BsmtQual          37      – code as 'absence'\n",
    "# BsmtCond          37      – code as 'absence'\n",
    "# BsmtFinType1      37      – code as 'absence'\n",
    "# ----------------------------------------------\n",
    "# GarageYrBlt       81      – code as '0'  ## MD: Fill with YearBuilt\n",
    "# ----------------------------------------------\n",
    "# Electrical        1       – fill in with the most frequently occurring value in the column\n",
    "# MasVnrArea        8       – fill in with the most frequently occurring value in the column\n",
    "# LotFrontage       259     – fill in with the most frequently occurring value in the column"
   ]
  },
  {
   "cell_type": "code",
   "execution_count": null,
   "id": "694cc10f-91c5-4f65-ad80-e4ec50308e05",
   "metadata": {
    "is_executing": true
   },
   "outputs": [],
   "source": [
    "df = _fill_missing_values(df=df)"
   ]
  },
  {
   "cell_type": "markdown",
   "id": "a3b6b010-3dbd-41d6-94a8-a7cf10635370",
   "metadata": {},
   "source": [
    "# Numerical Features Histograms"
   ]
  },
  {
   "cell_type": "code",
   "execution_count": null,
   "id": "2b85f2c1-6f58-4433-9014-da03139c2ae0",
   "metadata": {
    "collapsed": false,
    "is_executing": true
   },
   "outputs": [],
   "source": [
    "(df\n",
    "    .select_dtypes(\n",
    "        include=[np.number])\n",
    "    .hist(\n",
    "        figsize=(16, 20), \n",
    "        bins=50, \n",
    "        xlabelsize=8,\n",
    "        ylabelsize=8,\n",
    "        color='skyblue')\n",
    ");"
   ]
  },
  {
   "cell_type": "markdown",
   "id": "aa4f46e4-767c-4a93-a5f7-d03c6af6c065",
   "metadata": {},
   "source": [
    "## Plot Engineered Features "
   ]
  },
  {
   "cell_type": "code",
   "execution_count": null,
   "id": "ecfd3b52-d04d-4bde-a215-d83362391de7",
   "metadata": {
    "is_executing": true
   },
   "outputs": [],
   "source": [
    "df = _feature_engineering(df=df)"
   ]
  },
  {
   "cell_type": "code",
   "execution_count": null,
   "id": "f5a19f6d-d3ae-45bb-9727-93e3c7fb1d82",
   "metadata": {
    "is_executing": true
   },
   "outputs": [],
   "source": [
    "# Ustawienie stylu\n",
    "sns.set(style=\"whitegrid\")\n",
    "\n",
    "# Tworzenie figury i osi\n",
    "fig, axs = plt.subplots(1, 3, figsize=(15, 5))\n",
    "\n",
    "# Histogram dla 'AgeOfProperty'\n",
    "sns.histplot(df['AgeOfProperty'], ax=axs[0], color='skyblue', kde=True)\n",
    "axs[0].set_title('Histogram of AgeOfProperty')\n",
    "axs[0].set_xlabel('Age of Property')\n",
    "axs[0].set_ylabel('Frequency')\n",
    "\n",
    "# Histogram dla 'TotalSqFt'\n",
    "sns.histplot(df['TotalSqFt'], ax=axs[1], color='skyblue', kde=True)\n",
    "axs[1].set_title('Histogram of TotalSqFt')\n",
    "axs[1].set_xlabel('Total Square Feet')\n",
    "axs[1].set_ylabel('Frequency')\n",
    "\n",
    "# Histogram dla 'GarageBuildYearsAfterHouse'\n",
    "sns.histplot(df['GarageBuildYearsAfterHouse'], ax=axs[2], color='skyblue', kde=True)\n",
    "axs[2].set_title('Histogram of GarageBuildYearsAfterHouse')\n",
    "axs[2].set_xlabel('Years After House')\n",
    "axs[2].set_ylabel('Frequency')\n",
    "\n",
    "# Wyświetlenie wykresów\n",
    "plt.tight_layout()\n",
    "plt.show()"
   ]
  },
  {
   "cell_type": "markdown",
   "id": "8d7c9b0a-e211-4fe7-88d1-177913753cf6",
   "metadata": {},
   "source": [
    "## Show OneHot Encoded Features"
   ]
  },
  {
   "cell_type": "code",
   "execution_count": null,
   "id": "baaa45bb-b84a-46bc-8b40-d3c3424571cc",
   "metadata": {
    "is_executing": true
   },
   "outputs": [],
   "source": [
    "df = _one_hot_encoding(df=df)"
   ]
  },
  {
   "cell_type": "code",
   "execution_count": null,
   "outputs": [],
   "source": [
    "df.head()"
   ],
   "metadata": {
    "collapsed": false,
    "is_executing": true
   },
   "id": "cda930a41afcbef8"
  },
  {
   "cell_type": "markdown",
   "id": "7ea0cb1d5f1d671a",
   "metadata": {
    "jp-MarkdownHeadingCollapsed": true,
    "tags": []
   },
   "source": [
    "## Regression Modeling"
   ]
  },
  {
   "cell_type": "code",
   "execution_count": null,
   "id": "acba08933ea3ad88",
   "metadata": {
    "collapsed": false,
    "is_executing": true
   },
   "outputs": [],
   "source": [
    "# Easy regression model\n",
    "    # Linear Regression\n",
    "from sklearn.linear_model import LinearRegression\n",
    "\n",
    "linear_regressor = LinearRegression()\n",
    "linear_regressor.fit(X_train, y_train)"
   ]
  },
  {
   "cell_type": "code",
   "execution_count": null,
   "id": "309f533d64f8d9cd",
   "metadata": {
    "collapsed": false,
    "is_executing": true
   },
   "outputs": [],
   "source": [
    "from sklearn.metrics import r2_score\n",
    "\n",
    "lry_pred = linear_regressor.predict(X_test)\n",
    "r2 = r2_score(y_test, lry_pred)\n",
    "\n",
    "print(f'Linear Regressor - R²: {r2}')"
   ]
  },
  {
   "cell_type": "code",
   "execution_count": null,
   "id": "5565165d48ef1024",
   "metadata": {
    "collapsed": false,
    "is_executing": true
   },
   "outputs": [],
   "source": [
    "# Intermediate regression models\n",
    "    # Decision Tree Model\n",
    "from sklearn.tree import DecisionTreeRegressor\n",
    "\n",
    "dt_regressor = DecisionTreeRegressor(random_state=0, \n",
    "                                     max_depth=10, \n",
    "                                     min_samples_leaf=100)\n",
    "dt_regressor.fit(X_train, y_train)"
   ]
  },
  {
   "cell_type": "code",
   "execution_count": null,
   "id": "53790fb9f3b78b68",
   "metadata": {
    "collapsed": false,
    "is_executing": true
   },
   "outputs": [],
   "source": [
    "dty_pred = dt_regressor.predict(X_test)\n",
    "\n",
    "r2 = r2_score(y_test, dty_pred)\n",
    "\n",
    "print(f'Decision Tree Regressor - R²: {r2}')"
   ]
  },
  {
   "cell_type": "code",
   "execution_count": null,
   "id": "f569ecae20fe01cf",
   "metadata": {
    "collapsed": false,
    "is_executing": true
   },
   "outputs": [],
   "source": [
    "    # Random Forest Regression\n",
    "from sklearn.ensemble import RandomForestRegressor\n",
    "\n",
    "rf_regressor = RandomForestRegressor(n_estimators=100, \n",
    "                                     random_state=0, \n",
    "                                     max_depth=10, \n",
    "                                     min_samples_split=10, \n",
    "                                     min_samples_leaf=100)\n",
    "rf_regressor.fit(X_train, y_train)"
   ]
  },
  {
   "cell_type": "code",
   "execution_count": null,
   "id": "d58e1b434b0f0d63",
   "metadata": {
    "collapsed": false,
    "is_executing": true
   },
   "outputs": [],
   "source": [
    "rfy_pred = rf_regressor.predict(X_test)\n",
    "r2 = r2_score(y_test, rfy_pred)\n",
    "\n",
    "print(f'Random Forest Regressor - R²: {r2}')"
   ]
  },
  {
   "cell_type": "code",
   "execution_count": null,
   "id": "28a893aa7cb696cf",
   "metadata": {
    "collapsed": false,
    "is_executing": true
   },
   "outputs": [],
   "source": [
    "    #Gradient Boosting Regression\n",
    "from sklearn.ensemble import GradientBoostingRegressor\n",
    "\n",
    "gb_regressor = GradientBoostingRegressor(n_estimators=3000,\n",
    "                                         learning_rate=0.05,\n",
    "                                         max_depth=4,\n",
    "                                         random_state=0)\n",
    "gb_regressor.fit(X_train, y_train)"
   ]
  },
  {
   "cell_type": "code",
   "execution_count": null,
   "id": "c9dedf260ec796b1",
   "metadata": {
    "collapsed": false,
    "is_executing": true
   },
   "outputs": [],
   "source": [
    "gby_pred = gb_regressor.predict(X_test)\n",
    "\n",
    "r2 = r2_score(y_test, gby_pred)\n",
    "\n",
    "print(f'Gradient Boosting Regressor- R²: {r2}')"
   ]
  },
  {
   "cell_type": "code",
   "execution_count": null,
   "id": "ac657d98df54cccc",
   "metadata": {
    "collapsed": false,
    "is_executing": true
   },
   "outputs": [],
   "source": [
    "    # SVR (Support Vector Regression)\n",
    "from sklearn.svm import SVR\n",
    "\n",
    "svr_regressor = SVR(kernel='rbf',\n",
    "                    C=1.0,\n",
    "                    epsilon=0.1)\n",
    "svr_regressor.fit(X_train, y_train)\n",
    "svry_pred = svr_regressor.predict(X_test)"
   ]
  },
  {
   "cell_type": "code",
   "execution_count": null,
   "id": "458d1f0d30504d1d",
   "metadata": {
    "collapsed": false,
    "is_executing": true
   },
   "outputs": [],
   "source": [
    "r2 = r2_score(y_test, svry_pred)\n",
    "\n",
    "print(f'Support Vector Regression - R²: {r2}')"
   ]
  },
  {
   "cell_type": "code",
   "execution_count": null,
   "id": "3459fb1042ca7207",
   "metadata": {
    "collapsed": false,
    "is_executing": true
   },
   "outputs": [],
   "source": [
    "# Advanced Regression Model\n",
    "    # XGBoost\n",
    "import xgboost as xgb\n",
    "\n",
    "xgb_regressor = xgb.XGBRegressor(objective ='reg:squarederror', # Funkcja celu regresji\n",
    "                                 colsample_bytree = 0.3, # Udział kolumn przy budowie każdego drzewa\n",
    "                                 learning_rate = 0.05,   # Współczynnik uczenia się\n",
    "                                 max_depth = 3,         # Maksymalna głębokość drzewa\n",
    "                                 alpha = 10,            # Parametr regularyzacji L1\n",
    "                                 n_estimators = 2200)     # Liczba drzew w modelu\n",
    "\n",
    "xgb_regressor.fit(X_train, y_train)"
   ]
  },
  {
   "cell_type": "code",
   "execution_count": null,
   "id": "81b4483beca4d958",
   "metadata": {
    "collapsed": false,
    "is_executing": true
   },
   "outputs": [],
   "source": [
    "xgby_pred = xgb_regressor.predict(X_test)\n",
    "r2 = r2_score(y_test, xgby_pred)\n",
    "\n",
    "print(f'R²: {r2}')"
   ]
  },
  {
   "cell_type": "markdown",
   "id": "196953cc7610c58b",
   "metadata": {},
   "source": []
  }
 ],
 "metadata": {
  "kernelspec": {
   "display_name": "Python 3 (ipykernel)",
   "language": "python",
   "name": "python3"
  },
  "language_info": {
   "codemirror_mode": {
    "name": "ipython",
    "version": 3
   },
   "file_extension": ".py",
   "mimetype": "text/x-python",
   "name": "python",
   "nbconvert_exporter": "python",
   "pygments_lexer": "ipython3",
   "version": "3.8.16"
  }
 },
 "nbformat": 4,
 "nbformat_minor": 5
}
