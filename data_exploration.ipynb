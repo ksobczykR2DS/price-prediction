{
 "cells": [
  {
   "cell_type": "markdown",
   "id": "fbc5e9ace0c37a58",
   "metadata": {},
   "source": [
    "# Loading Data"
   ]
  },
  {
   "cell_type": "code",
   "execution_count": 4,
   "id": "b439eb4d-8641-4a01-b3a8-237e85f41786",
   "metadata": {
    "collapsed": false,
    "ExecuteTime": {
     "end_time": "2024-01-15T20:08:50.179323Z",
     "start_time": "2024-01-15T20:08:49.995812500Z"
    }
   },
   "outputs": [],
   "source": [
    "from data_utils import _read_data, _fill_missing_values, _feature_engineering, _one_hot_encoding\n",
    "\n",
    "df = _read_data()"
   ]
  },
  {
   "cell_type": "markdown",
   "id": "712af275-bb94-4188-849f-2ab0a4677794",
   "metadata": {},
   "source": [
    "# Data Analysis"
   ]
  },
  {
   "cell_type": "markdown",
   "id": "d51dc556-b2fa-4ce6-8d50-278c447b4e5c",
   "metadata": {},
   "source": [
    "## Distributions"
   ]
  },
  {
   "cell_type": "code",
   "execution_count": 6,
   "id": "6a677aaa4f7fe1a",
   "metadata": {
    "collapsed": false,
    "ExecuteTime": {
     "end_time": "2024-01-15T20:09:08.848385600Z",
     "start_time": "2024-01-15T20:09:08.795528Z"
    }
   },
   "outputs": [
    {
     "ename": "ModuleNotFoundError",
     "evalue": "No module named 'matplotlib'",
     "output_type": "error",
     "traceback": [
      "\u001B[1;31m---------------------------------------------------------------------------\u001B[0m",
      "\u001B[1;31mModuleNotFoundError\u001B[0m                       Traceback (most recent call last)",
      "Cell \u001B[1;32mIn[6], line 1\u001B[0m\n\u001B[1;32m----> 1\u001B[0m \u001B[38;5;28;01mimport\u001B[39;00m \u001B[38;5;21;01mmatplotlib\u001B[39;00m\u001B[38;5;21;01m.\u001B[39;00m\u001B[38;5;21;01mpyplot\u001B[39;00m \u001B[38;5;28;01mas\u001B[39;00m \u001B[38;5;21;01mplt\u001B[39;00m\n\u001B[0;32m      2\u001B[0m \u001B[38;5;28;01mimport\u001B[39;00m \u001B[38;5;21;01mseaborn\u001B[39;00m \u001B[38;5;28;01mas\u001B[39;00m \u001B[38;5;21;01msns\u001B[39;00m\n\u001B[0;32m      3\u001B[0m \u001B[38;5;28;01mimport\u001B[39;00m \u001B[38;5;21;01mnumpy\u001B[39;00m \u001B[38;5;28;01mas\u001B[39;00m \u001B[38;5;21;01mnp\u001B[39;00m\n",
      "\u001B[1;31mModuleNotFoundError\u001B[0m: No module named 'matplotlib'"
     ]
    }
   ],
   "source": [
    "import matplotlib.pyplot as plt\n",
    "import seaborn as sns\n",
    "import numpy as np\n",
    "\n",
    "sns.set(style=\"whitegrid\")\n",
    "\n",
    "plt.figure(figsize=(10, 5))\n",
    "sns.histplot(df['SalePrice'], kde=True, color='skyblue')\n",
    "plt.title('Distribution of Sale Prices', fontsize=20)\n",
    "plt.xlabel('Sale Price', fontsize=15)\n",
    "plt.ylabel('Frequency', fontsize=15)\n",
    "plt.xticks(rotation=90, fontsize=12)\n",
    "sns.despine()\n",
    "\n",
    "plt.show()"
   ]
  },
  {
   "cell_type": "markdown",
   "id": "fb7e6729-69cc-4594-9bf9-41108f451eef",
   "metadata": {},
   "source": [
    "# Profiling"
   ]
  },
  {
   "cell_type": "code",
   "execution_count": null,
   "id": "98fc4209-01bb-472d-b116-f613f206872a",
   "metadata": {
    "collapsed": false,
    "ExecuteTime": {
     "start_time": "2024-01-15T20:08:50.114495800Z"
    }
   },
   "outputs": [],
   "source": [
    "# from ydata_profiling import ProfileReport\n",
    "# in case of error: pip install typing_extensions==4.7.1 --upgrade\n",
    "# profile = ProfileReport(df, title=\"Profiling Report\")\n",
    "\n",
    "# profile.to_file(\"reports/data_report.html\")"
   ]
  },
  {
   "cell_type": "markdown",
   "id": "0e94e6b2-0e1e-4444-bd9e-14e70b0fe2ba",
   "metadata": {},
   "source": [
    "# Missing Values"
   ]
  },
  {
   "cell_type": "code",
   "execution_count": null,
   "id": "7264cbb54d8d48e1",
   "metadata": {
    "collapsed": false,
    "ExecuteTime": {
     "start_time": "2024-01-15T20:08:50.120479400Z"
    }
   },
   "outputs": [],
   "source": [
    "missing_values = df.isnull().sum().sort_values(ascending=False)\n",
    "missing_values = missing_values[missing_values > 0]\n",
    "\n",
    "\n",
    "sns.set(style=\"whitegrid\")\n",
    "plt.figure(figsize=(10, 5))\n",
    "sns.barplot(x=missing_values.index, y=missing_values.values, color='skyblue')\n",
    "\n",
    "plt.title('Number of Missing Values in Each Column', fontsize=20)\n",
    "plt.xlabel('Columns', fontsize=15)\n",
    "plt.ylabel('Number of Missing Values', fontsize=15)\n",
    "plt.xticks(rotation=90, fontsize=12)\n",
    "sns.despine()\n",
    "plt.show()"
   ]
  },
  {
   "cell_type": "code",
   "execution_count": null,
   "id": "ad9d1af20c5a4185",
   "metadata": {
    "collapsed": false,
    "ExecuteTime": {
     "start_time": "2024-01-15T20:08:50.123471700Z"
    }
   },
   "outputs": [],
   "source": [
    "# PoolQC            1453    – code as 'absence'\n",
    "# MiscFeature       1406    – code as 'absence'\n",
    "# Alley             1369    – code as 'absence'\n",
    "# Fence             1179    – code as 'absence'\n",
    "# MasVnrType        872     – code as 'absence'\n",
    "# FireplaceQu       690     – code as 'absence'\n",
    "# GarageType        81      – code as 'absence'\n",
    "# GarageCond        81      – code as 'absence'\n",
    "# GarageFinish      81      – code as 'absence'\n",
    "# GarageQual        81      – code as 'absence'\n",
    "# BsmtFinType2      38      – code as 'absence'\n",
    "# BsmtExposure      38      – code as 'absence'\n",
    "# BsmtQual          37      – code as 'absence'\n",
    "# BsmtCond          37      – code as 'absence'\n",
    "# BsmtFinType1      37      – code as 'absence'\n",
    "# ----------------------------------------------\n",
    "# GarageYrBlt       81      – fill with YearBuilt\n",
    "# ----------------------------------------------\n",
    "# Electrical        1       – fill in with the most frequently occurring value in the column\n",
    "# MasVnrArea        8       – fill in with the most frequently occurring value in the column\n",
    "# LotFrontage       259     – fill in with the most frequently occurring value in the column"
   ]
  },
  {
   "cell_type": "code",
   "execution_count": null,
   "id": "694cc10f-91c5-4f65-ad80-e4ec50308e05",
   "metadata": {
    "ExecuteTime": {
     "start_time": "2024-01-15T20:08:50.126463500Z"
    }
   },
   "outputs": [],
   "source": [
    "df = _fill_missing_values(df=df)"
   ]
  },
  {
   "cell_type": "markdown",
   "id": "a3b6b010-3dbd-41d6-94a8-a7cf10635370",
   "metadata": {},
   "source": [
    "# Numerical Features Histograms"
   ]
  },
  {
   "cell_type": "code",
   "execution_count": null,
   "id": "2b85f2c1-6f58-4433-9014-da03139c2ae0",
   "metadata": {
    "collapsed": false,
    "ExecuteTime": {
     "start_time": "2024-01-15T20:08:50.131450Z"
    }
   },
   "outputs": [],
   "source": [
    "(df\n",
    "    .select_dtypes(\n",
    "        include=[np.number])\n",
    "    .hist(\n",
    "        figsize=(16, 20), \n",
    "        bins=50, \n",
    "        xlabelsize=8,\n",
    "        ylabelsize=8,\n",
    "        color='skyblue')\n",
    ");"
   ]
  },
  {
   "cell_type": "markdown",
   "id": "aa4f46e4-767c-4a93-a5f7-d03c6af6c065",
   "metadata": {},
   "source": [
    "## Engineered Features "
   ]
  },
  {
   "cell_type": "code",
   "execution_count": null,
   "id": "ecfd3b52-d04d-4bde-a215-d83362391de7",
   "metadata": {
    "ExecuteTime": {
     "start_time": "2024-01-15T20:08:50.135439100Z"
    }
   },
   "outputs": [],
   "source": [
    "df = _feature_engineering(df=df)"
   ]
  },
  {
   "cell_type": "code",
   "execution_count": null,
   "id": "f5a19f6d-d3ae-45bb-9727-93e3c7fb1d82",
   "metadata": {
    "ExecuteTime": {
     "start_time": "2024-01-15T20:08:50.138431700Z"
    }
   },
   "outputs": [],
   "source": [
    "# Setting the style\n",
    "sns.set(style=\"whitegrid\")\n",
    "\n",
    "# Creating figure and axes\n",
    "fig, axs = plt.subplots(1, 3, figsize=(15, 5))\n",
    "\n",
    "# Histogram for 'AgeOfProperty'\n",
    "sns.histplot(df['AgeOfProperty'], ax=axs[0], color='skyblue', kde=True)\n",
    "axs[0].set_title('Histogram of AgeOfProperty')\n",
    "axs[0].set_xlabel('Age of Property')\n",
    "axs[0].set_ylabel('Frequency')\n",
    "\n",
    "# Histogram for 'TotalSqFt'\n",
    "sns.histplot(df['TotalSqFt'], ax=axs[1], color='skyblue', kde=True)\n",
    "axs[1].set_title('Histogram of TotalSqFt')\n",
    "axs[1].set_xlabel('Total Square Feet')\n",
    "axs[1].set_ylabel('Frequency')\n",
    "\n",
    "# Histogram for 'GarageBuildYearsAfterHouse'\n",
    "sns.histplot(df['GarageBuildYearsAfterHouse'], ax=axs[2], color='skyblue', kde=True)\n",
    "axs[2].set_title('Histogram of GarageBuildYearsAfterHouse')\n",
    "axs[2].set_xlabel('Years After House')\n",
    "axs[2].set_ylabel('Frequency')\n",
    "\n",
    "# Adding histograms for 'TotalBathrooms'\n",
    "sns.histplot(df['TotalBathrooms'], ax=axs[0, 0], color='skyblue', kde=True)\n",
    "axs[0, 0].set_title('Histogram of TotalBathrooms')\n",
    "axs[0, 0].set_xlabel('Total Bathrooms')\n",
    "axs[0, 0].set_ylabel('Frequency')\n",
    "\n",
    "# Adding histograms for 'TotalPorchSF'\n",
    "sns.histplot(df['TotalPorchSF'], ax=axs[0, 1], color='skyblue', kde=True)\n",
    "axs[0, 1].set_title('Histogram of TotalPorchSF')\n",
    "axs[0, 1].set_xlabel('Total Porch Sq Ft')\n",
    "axs[0, 1].set_ylabel('Frequency')\n",
    "\n",
    "# Displaying the plots\n",
    "plt.tight_layout()\n",
    "plt.show()"
   ]
  },
  {
   "cell_type": "markdown",
   "id": "8d7c9b0a-e211-4fe7-88d1-177913753cf6",
   "metadata": {},
   "source": [
    "## OneHot Encoded Features"
   ]
  },
  {
   "cell_type": "code",
   "execution_count": null,
   "id": "baaa45bb-b84a-46bc-8b40-d3c3424571cc",
   "metadata": {
    "ExecuteTime": {
     "start_time": "2024-01-15T20:08:50.144415600Z"
    }
   },
   "outputs": [],
   "source": [
    "df = _one_hot_encoding(df=df)"
   ]
  },
  {
   "cell_type": "code",
   "execution_count": null,
   "outputs": [],
   "source": [
    "df.head()"
   ],
   "metadata": {
    "collapsed": false,
    "ExecuteTime": {
     "start_time": "2024-01-15T20:08:50.152394100Z"
    }
   },
   "id": "cda930a41afcbef8"
  },
  {
   "cell_type": "markdown",
   "source": [
    "## Loading Data"
   ],
   "metadata": {
    "collapsed": false
   },
   "id": "1965b2d47a7e1a15"
  },
  {
   "cell_type": "markdown",
   "source": [
    "# Data split - Train & Test"
   ],
   "metadata": {
    "collapsed": false
   },
   "id": "6a1335d56008c4bb"
  },
  {
   "cell_type": "code",
   "outputs": [],
   "source": [
    "from data_utils import load_raw_data, load_training_data\n",
    "df = load_raw_data(feature_engineering=True)\n",
    "x_train, x_test, y_train, y_test = load_training_data(feature_engineering=True)"
   ],
   "metadata": {
    "collapsed": false,
    "ExecuteTime": {
     "start_time": "2024-01-15T20:08:50.155386100Z"
    }
   },
   "id": "fd2571ad867f1e07",
   "execution_count": null
  },
  {
   "cell_type": "markdown",
   "id": "7ea0cb1d5f1d671a",
   "metadata": {
    "jp-MarkdownHeadingCollapsed": true,
    "tags": []
   },
   "source": [
    "## Regression Modeling"
   ]
  },
  {
   "cell_type": "code",
   "execution_count": null,
   "id": "acba08933ea3ad88",
   "metadata": {
    "collapsed": false,
    "ExecuteTime": {
     "start_time": "2024-01-15T20:08:50.163364900Z"
    }
   },
   "outputs": [],
   "source": [
    "from sklearn.linear_model import Lasso, ElasticNet, LinearRegression\n",
    "from sklearn.metrics import r2_score\n",
    "\n",
    "linear_regressor = LinearRegression()\n",
    "linear_regressor.fit(x_train, y_train)\n",
    "\n",
    "lasso_regressor = Lasso(random_state=0,\n",
    "                        alpha=1)\n",
    "lasso_regressor.fit(x_train, y_train)\n",
    "\n",
    "elasticnet_regressor = ElasticNet(random_state=0,\n",
    "                                  alpha=1, \n",
    "                                  l1_ratio=0.18)\n",
    "elasticnet_regressor = elasticnet_regressor.fit(x_test, y_test)"
   ]
  },
  {
   "cell_type": "code",
   "outputs": [],
   "source": [
    "lry_pred = linear_regressor.predict(x_test)\n",
    "r2 = r2_score(y_test, lry_pred)\n",
    "\n",
    "print(f'Linear Regressor - R²: {r2}')\n",
    "\n",
    "lasso_pred = lasso_regressor.predict(x_test)\n",
    "r2 = r2_score(y_test, lasso_pred)\n",
    "\n",
    "print(f'Lasso Regressor - R²: {r2}')\n",
    "\n",
    "elasticnet_pred = elasticnet_regressor.predict(x_test)\n",
    "r2 = r2_score(y_test, elasticnet_pred)\n",
    "\n",
    "print(f'Elastic Net Regressor - R²: {r2}')"
   ],
   "metadata": {
    "collapsed": false,
    "ExecuteTime": {
     "start_time": "2024-01-15T20:08:50.169348700Z"
    }
   },
   "id": "d01dce558e06783c",
   "execution_count": null
  },
  {
   "cell_type": "code",
   "execution_count": null,
   "id": "5565165d48ef1024",
   "metadata": {
    "collapsed": false,
    "ExecuteTime": {
     "start_time": "2024-01-15T20:08:50.173351600Z"
    }
   },
   "outputs": [],
   "source": [
    "from sklearn.tree import DecisionTreeRegressor\n",
    "\n",
    "dt_regressor = DecisionTreeRegressor(random_state=0,\n",
    "                                     max_depth=10,\n",
    "                                     min_samples_leaf=10,\n",
    "                                     min_samples_split=50)\n",
    "dt_regressor.fit(x_train, y_train)"
   ]
  },
  {
   "cell_type": "code",
   "execution_count": null,
   "id": "53790fb9f3b78b68",
   "metadata": {
    "collapsed": false,
    "ExecuteTime": {
     "start_time": "2024-01-15T20:08:50.178324800Z"
    }
   },
   "outputs": [],
   "source": [
    "dty_pred = dt_regressor.predict(x_test)\n",
    "\n",
    "r2 = r2_score(y_test, dty_pred)\n",
    "\n",
    "print(f'Decision Tree Regressor - R²: {r2}')"
   ]
  },
  {
   "cell_type": "code",
   "execution_count": null,
   "id": "f569ecae20fe01cf",
   "metadata": {
    "collapsed": false,
    "ExecuteTime": {
     "start_time": "2024-01-15T20:08:50.186316Z"
    }
   },
   "outputs": [],
   "source": [
    "from sklearn.ensemble import RandomForestRegressor, GradientBoostingRegressor\n",
    "\n",
    "rf_regressor = RandomForestRegressor(n_estimators=1500,\n",
    "                                     random_state=0,\n",
    "                                     max_depth=17,\n",
    "                                     min_samples_split=3,\n",
    "                                     min_samples_leaf=10)\n",
    "rf_regressor.fit(x_train, y_train)\n",
    "\n",
    "gb_regressor = GradientBoostingRegressor(n_estimators=2000,\n",
    "                                         learning_rate=0.05,\n",
    "                                         max_depth=3,\n",
    "                                         random_state=0,\n",
    "                                         max_features='sqrt',\n",
    "                                         min_samples_split=10,\n",
    "                                         min_samples_leaf=13,\n",
    "                                         loss='huber')\n",
    "gb_regressor.fit(x_train, y_train)"
   ]
  },
  {
   "cell_type": "code",
   "execution_count": null,
   "id": "d58e1b434b0f0d63",
   "metadata": {
    "collapsed": false,
    "ExecuteTime": {
     "start_time": "2024-01-15T20:08:50.192287300Z"
    }
   },
   "outputs": [],
   "source": [
    "rfy_pred = rf_regressor.predict(x_test)\n",
    "r2 = r2_score(y_test, rfy_pred)\n",
    "\n",
    "print(f'Random Forest Regressor - R²: {r2}')\n",
    "\n",
    "gby_pred = gb_regressor.predict(x_test)\n",
    "\n",
    "r2 = r2_score(y_test, gby_pred)\n",
    "\n",
    "print(f'Gradient Boosting Regressor- R²: {r2}')"
   ]
  },
  {
   "cell_type": "code",
   "execution_count": null,
   "id": "ac657d98df54cccc",
   "metadata": {
    "collapsed": false,
    "ExecuteTime": {
     "start_time": "2024-01-15T20:08:50.201265100Z"
    }
   },
   "outputs": [],
   "source": [
    "from sklearn.svm import SVR\n",
    "\n",
    "svr_regressor = SVR(C=40,\n",
    "                    gamma=0.0001,\n",
    "                    degree=1,\n",
    "                    kernel='linear')\n",
    "\n",
    "svr_regressor.fit(x_train, y_train)\n",
    "svry_pred = svr_regressor.predict(x_test)"
   ]
  },
  {
   "cell_type": "code",
   "execution_count": null,
   "id": "458d1f0d30504d1d",
   "metadata": {
    "collapsed": false,
    "ExecuteTime": {
     "start_time": "2024-01-15T20:08:50.204256100Z"
    }
   },
   "outputs": [],
   "source": [
    "r2 = r2_score(y_test, svry_pred)\n",
    "\n",
    "print(f'Support Vector Regression - R²: {r2}')"
   ]
  },
  {
   "cell_type": "code",
   "execution_count": null,
   "id": "3459fb1042ca7207",
   "metadata": {
    "collapsed": false,
    "ExecuteTime": {
     "start_time": "2024-01-15T20:08:50.212234500Z"
    }
   },
   "outputs": [],
   "source": [
    "import xgboost as xgb\n",
    "from lightgbm import LGBMRegressor\n",
    "\n",
    "\n",
    "lgb_regressor = LGBMRegressor(random_state=0,\n",
    "                              num_leaves=11,\n",
    "                              n_estimators=6000,\n",
    "                              learning_rate=0.01,\n",
    "                              verbose=10,\n",
    "                              max_bin=129,\n",
    "                              bagging_fraction=1,\n",
    "                              bagging_freq=2,\n",
    "                              bagging_seed=10,\n",
    "                              feature_fraction=0.1,\n",
    "                              feature_fraction_seed=1,\n",
    "                              objective='regression')\n",
    "lgb_regressor.fit(x_train, y_train)\n",
    "\n",
    "xgb_regressor = xgb.XGBRegressor(objective ='reg:squarederror',\n",
    "                                 max_depth = 2,\n",
    "                                 alpha = 0.8298,\n",
    "                                 random_state=0,\n",
    "                                 n_estimators=3407,\n",
    "                                 learning_rate=0.0377,\n",
    "                                 min_child_weight=0.4565,\n",
    "                                 subsample=0.9964,\n",
    "                                 reg_lambda=0.0316,\n",
    "                                 gamma=0.0009,\n",
    "                                 colsample_bytree=0.2308,\n",
    "                                 nthread=-1)\n",
    "\n",
    "xgb_regressor.fit(x_train, y_train)"
   ]
  },
  {
   "cell_type": "code",
   "execution_count": null,
   "id": "81b4483beca4d958",
   "metadata": {
    "collapsed": false,
    "ExecuteTime": {
     "start_time": "2024-01-15T20:08:50.219229800Z"
    }
   },
   "outputs": [],
   "source": [
    "lgb_pred = lgb_regressor.predict(x_test)\n",
    "r2 = r2_score(y_test, lgb_pred)\n",
    "\n",
    "print(f'LightGB - R²: {r2}')\n",
    "\n",
    "xgby_pred = xgb_regressor.predict(x_test)\n",
    "r2 = r2_score(y_test, xgby_pred)\n",
    "\n",
    "print(f'XGBoost - R²: {r2}')"
   ]
  },
  {
   "cell_type": "markdown",
   "id": "196953cc7610c58b",
   "metadata": {},
   "source": []
  }
 ],
 "metadata": {
  "kernelspec": {
   "display_name": "Python 3 (ipykernel)",
   "language": "python",
   "name": "python3"
  },
  "language_info": {
   "codemirror_mode": {
    "name": "ipython",
    "version": 3
   },
   "file_extension": ".py",
   "mimetype": "text/x-python",
   "name": "python",
   "nbconvert_exporter": "python",
   "pygments_lexer": "ipython3",
   "version": "3.8.16"
  }
 },
 "nbformat": 4,
 "nbformat_minor": 5
}
